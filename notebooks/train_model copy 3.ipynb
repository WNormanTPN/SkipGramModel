{
 "cells": [
  {
   "cell_type": "markdown",
   "metadata": {},
   "source": [
    "# Import Libraries"
   ]
  },
  {
   "cell_type": "code",
   "execution_count": 1,
   "metadata": {},
   "outputs": [],
   "source": [
    "import json\n",
    "import numpy as np\n",
    "from tqdm import tqdm"
   ]
  },
  {
   "cell_type": "markdown",
   "metadata": {},
   "source": [
    "# Configure"
   ]
  },
  {
   "cell_type": "code",
   "execution_count": 2,
   "metadata": {},
   "outputs": [],
   "source": [
    "input_data = '../data/processed_data_lite.json'\n",
    "input_vocab = '../data/vocab_lite.json'\n",
    "output_model_prefix = '../models/model_lite'\n",
    "\n",
    "embedding_dim = 100  # Kích thước vector nhúng"
   ]
  },
  {
   "cell_type": "markdown",
   "metadata": {},
   "source": [
    "# Utils"
   ]
  },
  {
   "cell_type": "code",
   "execution_count": 3,
   "metadata": {},
   "outputs": [],
   "source": [
    "# Hàm tạo các cặp Skip-gram pairs\n",
    "def skipgram_pairs(corpus, window_size=2):\n",
    "    word_pairs = []\n",
    "    for sentence in corpus:\n",
    "        words_in_sentence = sentence.split()\n",
    "        for i, word in enumerate(words_in_sentence):\n",
    "            # Tạo cặp từ cho từ trung tâm và từ ngữ cảnh\n",
    "            context = words_in_sentence[max(i - window_size, 0):i] + words_in_sentence[i + 1:i + window_size + 1]\n",
    "            for context_word in context:\n",
    "                word_pairs.append((word, context_word))\n",
    "    return word_pairs"
   ]
  },
  {
   "cell_type": "code",
   "execution_count": null,
   "metadata": {},
   "outputs": [],
   "source": [
    "class SkipGram:\n",
    "    def __init__(self, vocab_size, embedding_dim, learning_rate=0.01):\n",
    "        self.vocab_size = vocab_size\n",
    "        self.embedding_dim = embedding_dim\n",
    "        self.learning_rate = learning_rate\n",
    "        \n",
    "        # Khởi tạo trọng số với Xavier Initialization\n",
    "        limit = np.sqrt(6 / (vocab_size + embedding_dim))\n",
    "        self.W1 = np.random.uniform(-limit, limit, (vocab_size, embedding_dim))  # |V| x d\n",
    "        self.W2 = np.random.uniform(-limit, limit, (embedding_dim, vocab_size))  # d x |V|\n",
    "\n",
    "    def softmax(self, x):\n",
    "        e_x = np.exp(x - np.max(x, axis=-1, keepdims=True))  # Stabilize computation\n",
    "        return e_x / e_x.sum(axis=-1, keepdims=True)\n",
    "\n",
    "    def forward(self, center_idx):\n",
    "        \"\"\"\n",
    "        Forward pass to compute probabilities of context words.\n",
    "        center_idx: Indices of the center words (batch_size).\n",
    "        \"\"\"\n",
    "        center_vectors = self.W1[center_idx]  # batch_size x d\n",
    "        logits = np.dot(center_vectors, self.W2)  # batch_size x |V|\n",
    "        probabilities = self.softmax(logits)  # batch_size x |V|\n",
    "        return probabilities, center_vectors\n",
    "\n",
    "    def backward(self, probabilities, center_idx, context_idx):\n",
    "        \"\"\"\n",
    "        Backward pass to compute gradients and update weights for a batch.\n",
    "        probabilities: Softmax probabilities (batch_size x |V|).\n",
    "        center_idx: Indices of the center words (batch_size).\n",
    "        context_idx: Indices of the context words (batch_size).\n",
    "        \"\"\"\n",
    "        batch_size = len(center_idx)\n",
    "        \n",
    "        # One-hot encoding for context words\n",
    "        targets = np.zeros_like(probabilities)  # batch_size x |V|\n",
    "        targets[np.arange(batch_size), context_idx] = 1\n",
    "\n",
    "        # Error between predicted probabilities and target\n",
    "        error = probabilities - targets  # batch_size x |V|\n",
    "\n",
    "        # Gradients for W2 and W1\n",
    "        grad_W2 = np.dot(self.W1[center_idx].T, error)  # d x |V|\n",
    "        grad_W1 = np.dot(error, self.W2.T)  # batch_size x d\n",
    "\n",
    "        # Gradient aggregation for W1 (sum gradients for same indices)\n",
    "        unique_idx, inverse_idx = np.unique(center_idx, return_inverse=True)\n",
    "        grouped_gradients = np.zeros((len(unique_idx), self.embedding_dim))\n",
    "        np.add.at(grouped_gradients, inverse_idx, grad_W1)\n",
    "\n",
    "        # Cập nhật W1\n",
    "        self.W1[unique_idx] -= self.learning_rate * grouped_gradients\n",
    "        self.W2 -= self.learning_rate * grad_W2\n",
    "\n",
    "    def train(self, word_pairs, vocab, epochs=10, batch_size=64):\n",
    "        \"\"\"\n",
    "        Train the Skip-gram model.\n",
    "        word_pairs: List of (center_word, context_word) tuples.\n",
    "        vocab: Vocabulary mapping word to index.\n",
    "        \"\"\"\n",
    "        print(\"Training Skip-gram model...\")\n",
    "        for epoch in range(epochs):\n",
    "            total_loss = 0\n",
    "            np.random.shuffle(word_pairs)\n",
    "            batches = [word_pairs[i:i + batch_size] for i in range(0, len(word_pairs), batch_size)]\n",
    "\n",
    "            for batch in tqdm(batches, desc=f\"Epoch {epoch+1}/{epochs}\"):\n",
    "                # Extract indices for batch\n",
    "                center_idx = np.array([vocab[center] for center, _ in batch])\n",
    "                context_idx = np.array([vocab[context] for _, context in batch])\n",
    "\n",
    "                # Forward pass\n",
    "                probabilities, _ = self.forward(center_idx)\n",
    "\n",
    "                # Compute loss (negative log likelihood)\n",
    "                batch_loss = -np.sum(np.log(probabilities[np.arange(len(context_idx)), context_idx]))\n",
    "                total_loss += batch_loss\n",
    "\n",
    "                # Backward pass\n",
    "                self.backward(probabilities, center_idx, context_idx)\n",
    "            \n",
    "            avg_loss = total_loss / len(word_pairs)\n",
    "            print(f\"Epoch {epoch+1}/{epochs}, Avg Loss: {avg_loss:.4f}\")\n",
    "\n",
    "    def get_embedding(self, word, vocab):\n",
    "        \"\"\"\n",
    "        Retrieve the embedding vector for a given word.\n",
    "        \"\"\"\n",
    "        return self.W1[vocab[word]]\n",
    "\n",
    "    def cosine_similarity(self, word1, word2, vocab):\n",
    "        \"\"\"\n",
    "        Compute cosine similarity between two words.\n",
    "        \"\"\"\n",
    "        vec1 = self.get_embedding(word1, vocab)\n",
    "        vec2 = self.get_embedding(word2, vocab)\n",
    "        \n",
    "        norm_vec1 = np.linalg.norm(vec1)\n",
    "        norm_vec2 = np.linalg.norm(vec2)\n",
    "        similarity = np.dot(vec1, vec2) / (norm_vec1 * norm_vec2)\n",
    "        return similarity\n",
    "    \n",
    "    def save(self, path_prefix):\n",
    "        np.save(f\"{path_prefix}_W1.npy\", self.W1)\n",
    "        np.save(f\"{path_prefix}_W2.npy\", self.W2)\n",
    "        print(f\"Model saved to {path_prefix}_W1.npy and {path_prefix}_W2.npy\")\n",
    "\n",
    "    @classmethod\n",
    "    def load(cls, path_prefix, vocab_size, embedding_dim, learning_rate=0.01):\n",
    "        model = cls(vocab_size, embedding_dim, learning_rate)\n",
    "        model.W1 = np.load(f\"{path_prefix}_W1.npy\")\n",
    "        model.W2 = np.load(f\"{path_prefix}_W2.npy\")\n",
    "        print(f\"Model loaded from {path_prefix}_W1.npy and {path_prefix}_W2.npy\")\n",
    "        return model\n"
   ]
  },
  {
   "cell_type": "code",
   "execution_count": 5,
   "metadata": {},
   "outputs": [],
   "source": [
    "def cosine_similarity(vec1, vec2):\n",
    "    # Tính tích vô hướng giữa vec1 và vec2\n",
    "    dot_product = np.dot(vec1, vec2)\n",
    "\n",
    "    # Tính độ dài của từng vector\n",
    "    norm_vec1 = np.linalg.norm(vec1)\n",
    "    norm_vec2 = np.linalg.norm(vec2)\n",
    "\n",
    "    # Tính cosine similarity\n",
    "    similarity = dot_product / (norm_vec1 * norm_vec2)\n",
    "\n",
    "    return similarity\n",
    "\n",
    "def word_similarity(word1, word2, vocab, embedding_matrix):\n",
    "    idx1 = vocab[word1]\n",
    "    idx2 = vocab[word2]\n",
    "\n",
    "    vec1 = embedding_matrix[idx1]\n",
    "    vec2 = embedding_matrix[idx2]\n",
    "\n",
    "    return cosine_similarity(vec1, vec2)\n"
   ]
  },
  {
   "cell_type": "markdown",
   "metadata": {},
   "source": [
    "# Main"
   ]
  },
  {
   "cell_type": "code",
   "execution_count": 6,
   "metadata": {},
   "outputs": [],
   "source": [
    "# Load data\n",
    "with open(input_data, 'r') as f:\n",
    "    data = json.load(f)\n",
    "\n",
    "with open(input_vocab, 'r') as f:\n",
    "    vocab = json.load(f)"
   ]
  },
  {
   "cell_type": "code",
   "execution_count": 7,
   "metadata": {},
   "outputs": [
    {
     "name": "stderr",
     "output_type": "stream",
     "text": [
      "100%|██████████| 2964/2964 [00:01<00:00, 2252.45it/s]\n",
      "100%|██████████| 2964/2964 [00:00<00:00, 27673.40it/s]\n"
     ]
    }
   ],
   "source": [
    "word_pairs = [skipgram_pairs(doc['contents'], 4) for doc in tqdm(data)]\n",
    "word_pairs = [item for sublist in tqdm(word_pairs) for item in sublist]"
   ]
  },
  {
   "cell_type": "code",
   "execution_count": 8,
   "metadata": {},
   "outputs": [
    {
     "name": "stdout",
     "output_type": "stream",
     "text": [
      "Training Skip-gram model...\n"
     ]
    },
    {
     "name": "stderr",
     "output_type": "stream",
     "text": [
      "Epoch 1/12: 100%|██████████| 5892/5892 [37:28<00:00,  2.62it/s]\n"
     ]
    },
    {
     "name": "stdout",
     "output_type": "stream",
     "text": [
      "Epoch 1/12, Avg Loss: 7.3930\n"
     ]
    },
    {
     "name": "stderr",
     "output_type": "stream",
     "text": [
      "Epoch 2/12: 100%|██████████| 5892/5892 [37:15<00:00,  2.64it/s]\n"
     ]
    },
    {
     "name": "stdout",
     "output_type": "stream",
     "text": [
      "Epoch 2/12, Avg Loss: 6.9490\n"
     ]
    },
    {
     "name": "stderr",
     "output_type": "stream",
     "text": [
      "Epoch 3/12: 100%|██████████| 5892/5892 [37:10<00:00,  2.64it/s]\n"
     ]
    },
    {
     "name": "stdout",
     "output_type": "stream",
     "text": [
      "Epoch 3/12, Avg Loss: 6.8363\n"
     ]
    },
    {
     "name": "stderr",
     "output_type": "stream",
     "text": [
      "Epoch 4/12: 100%|██████████| 5892/5892 [37:04<00:00,  2.65it/s]\n"
     ]
    },
    {
     "name": "stdout",
     "output_type": "stream",
     "text": [
      "Epoch 4/12, Avg Loss: 6.7715\n"
     ]
    },
    {
     "name": "stderr",
     "output_type": "stream",
     "text": [
      "Epoch 5/12: 100%|██████████| 5892/5892 [37:30<00:00,  2.62it/s]\n"
     ]
    },
    {
     "name": "stdout",
     "output_type": "stream",
     "text": [
      "Epoch 5/12, Avg Loss: 6.7276\n"
     ]
    },
    {
     "name": "stderr",
     "output_type": "stream",
     "text": [
      "Epoch 6/12: 100%|██████████| 5892/5892 [37:13<00:00,  2.64it/s]\n"
     ]
    },
    {
     "name": "stdout",
     "output_type": "stream",
     "text": [
      "Epoch 6/12, Avg Loss: 6.6951\n"
     ]
    },
    {
     "name": "stderr",
     "output_type": "stream",
     "text": [
      "Epoch 7/12: 100%|██████████| 5892/5892 [37:26<00:00,  2.62it/s]\n"
     ]
    },
    {
     "name": "stdout",
     "output_type": "stream",
     "text": [
      "Epoch 7/12, Avg Loss: 6.6697\n"
     ]
    },
    {
     "name": "stderr",
     "output_type": "stream",
     "text": [
      "Epoch 8/12: 100%|██████████| 5892/5892 [37:15<00:00,  2.64it/s]\n"
     ]
    },
    {
     "name": "stdout",
     "output_type": "stream",
     "text": [
      "Epoch 8/12, Avg Loss: 6.6488\n"
     ]
    },
    {
     "name": "stderr",
     "output_type": "stream",
     "text": [
      "Epoch 9/12: 100%|██████████| 5892/5892 [37:26<00:00,  2.62it/s]\n"
     ]
    },
    {
     "name": "stdout",
     "output_type": "stream",
     "text": [
      "Epoch 9/12, Avg Loss: 6.6313\n"
     ]
    },
    {
     "name": "stderr",
     "output_type": "stream",
     "text": [
      "Epoch 10/12: 100%|██████████| 5892/5892 [37:21<00:00,  2.63it/s]\n"
     ]
    },
    {
     "name": "stdout",
     "output_type": "stream",
     "text": [
      "Epoch 10/12, Avg Loss: 6.6163\n"
     ]
    },
    {
     "name": "stderr",
     "output_type": "stream",
     "text": [
      "Epoch 11/12: 100%|██████████| 5892/5892 [37:19<00:00,  2.63it/s]\n"
     ]
    },
    {
     "name": "stdout",
     "output_type": "stream",
     "text": [
      "Epoch 11/12, Avg Loss: 6.6031\n"
     ]
    },
    {
     "name": "stderr",
     "output_type": "stream",
     "text": [
      "Epoch 12/12: 100%|██████████| 5892/5892 [36:54<00:00,  2.66it/s]\n"
     ]
    },
    {
     "name": "stdout",
     "output_type": "stream",
     "text": [
      "Epoch 12/12, Avg Loss: 6.5913\n"
     ]
    }
   ],
   "source": [
    "model = SkipGram(vocab_size=len(vocab), embedding_dim=embedding_dim, learning_rate=0.01)\n",
    "model.train(word_pairs, vocab, epochs=12, batch_size=1024)"
   ]
  },
  {
   "cell_type": "code",
   "execution_count": 15,
   "metadata": {},
   "outputs": [
    {
     "name": "stdout",
     "output_type": "stream",
     "text": [
      "Similarity between \"ông\" and \"cha\": 0.48670778492625183\n",
      "Similarity between \"ông\" and \"mẹ\": 0.2227894703490199\n",
      "Similarity between \"giáo_viên\" and \"buồn_bã\": 0.19366798226541873\n",
      "Similarity between \"hạnh_phúc\" and \"vua\": 0.047202413395373385\n",
      "Similarity between \"học\" and \"giáo_dục\": 0.3103399566320062\n",
      "Similarity between \"anh\" and \"chị\": 0.7202090044204013\n"
     ]
    }
   ],
   "source": [
    "similarity = model.cosine_similarity('ông', 'cha', vocab)\n",
    "print('Similarity between \"ông\" and \"cha\":', similarity)\n",
    "similarity = model.cosine_similarity('ông', 'mẹ', vocab)\n",
    "print('Similarity between \"ông\" and \"mẹ\":', similarity)\n",
    "similarity = model.cosine_similarity('giáo_viên', 'buồn_bã', vocab)\n",
    "print('Similarity between \"giáo_viên\" and \"buồn_bã\":', similarity)\n",
    "similarity = model.cosine_similarity('hạnh_phúc', 'vua', vocab)\n",
    "print('Similarity between \"hạnh_phúc\" and \"vua\":', similarity)\n",
    "similarity = model.cosine_similarity('học', 'giáo_dục', vocab)\n",
    "print('Similarity between \"học\" and \"giáo_dục\":', similarity)\n",
    "similarity = model.cosine_similarity('anh', 'chị', vocab)\n",
    "print('Similarity between \"anh\" and \"chị\":', similarity)"
   ]
  },
  {
   "cell_type": "code",
   "execution_count": 10,
   "metadata": {},
   "outputs": [
    {
     "name": "stdout",
     "output_type": "stream",
     "text": [
      "Model saved to ../models/model_lite_W1.npy and ../models/model_lite_W2.npy\n"
     ]
    }
   ],
   "source": [
    "model.save(output_model_prefix)"
   ]
  },
  {
   "cell_type": "code",
   "execution_count": null,
   "metadata": {},
   "outputs": [],
   "source": []
  }
 ],
 "metadata": {
  "kernelspec": {
   "display_name": ".venv",
   "language": "python",
   "name": "python3"
  },
  "language_info": {
   "codemirror_mode": {
    "name": "ipython",
    "version": 3
   },
   "file_extension": ".py",
   "mimetype": "text/x-python",
   "name": "python",
   "nbconvert_exporter": "python",
   "pygments_lexer": "ipython3",
   "version": "3.12.7"
  }
 },
 "nbformat": 4,
 "nbformat_minor": 2
}
